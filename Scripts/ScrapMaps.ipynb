{
 "cells": [
  {
   "cell_type": "code",
   "execution_count": 1,
   "metadata": {},
   "outputs": [],
   "source": [
    "import pandas as pd\n",
    "import numpy as np\n",
    "\n",
    "from selenium import webdriver\n",
    "from selenium.webdriver.support.ui import Select\n",
    "from selenium.webdriver.support.select import Select\n",
    "from selenium.webdriver.common.keys import Keys\n",
    "from selenium.webdriver.common.by import By\n",
    "from selenium.webdriver.support.wait import WebDriverWait\n",
    "from selenium.webdriver.support import expected_conditions as EC\n",
    "from selenium.common.exceptions import ElementClickInterceptedException\n",
    "from selenium.common.exceptions import TimeoutException, StaleElementReferenceException, NoSuchElementException, WebDriverException \n",
    "from selenium.webdriver.common.action_chains import ActionChains\n",
    "from bs4 import BeautifulSoup\n",
    "import time\n",
    "import psutil"
   ]
  },
  {
   "cell_type": "code",
   "execution_count": 3,
   "metadata": {},
   "outputs": [],
   "source": [
    "dh = pd.read_csv(\"path2project/Annuaire/AnnuaireFiltre.csv\", encoding='ANSI')"
   ]
  },
  {
   "cell_type": "code",
   "execution_count": 4,
   "metadata": {},
   "outputs": [],
   "source": [
    "dh = dh[dh['etablissementSiege'] == True]"
   ]
  },
  {
   "cell_type": "code",
   "execution_count": 42,
   "metadata": {},
   "outputs": [],
   "source": [
    "#dh.to_csv('path2project/Annuaire/AnnuaireFinal.csv', index = False,  encoding='ANSI')"
   ]
  },
  {
   "cell_type": "code",
   "execution_count": 5,
   "metadata": {},
   "outputs": [],
   "source": [
    "di = pd.concat([dh.iloc[:,0], dh.iloc[:,2:6], dh.iloc[:,7:10], dh.iloc[:,23:29]],axis=1)"
   ]
  },
  {
   "cell_type": "code",
   "execution_count": 6,
   "metadata": {},
   "outputs": [],
   "source": [
    "def sigleMaker(string):\n",
    "    articles = ['D\\'', 'DE', 'DES', 'DU', 'ET','LE','LA']\n",
    "    words = str(string).split()\n",
    "    for l in words:\n",
    "        if l in articles:\n",
    "                words.remove(l)\n",
    "    sigle = ''.join(word[0] for word in words)\n",
    "    print(sigle)\n",
    "    return(sigle)"
   ]
  },
  {
   "cell_type": "code",
   "execution_count": null,
   "metadata": {},
   "outputs": [],
   "source": [
    "Search = []\n",
    "for i in range(len(di)):\n",
    "     Zip = zip(di.columns, di.iloc[i])\n",
    "     sigle = sigleMaker(di[\"denominationUniteLegale\"].iloc[i])\n",
    "     adresse = ''\n",
    "     for j, k in Zip:\n",
    "          if di.columns.get_loc(j) in range(0, 8) and not pd.isna(k) and k != sigle:\n",
    "                    nomEtablissement = str(k)\n",
    "          elif di.columns.get_loc(j) >= 8 and not pd.isna(k) and k!=0:\n",
    "               adresse = ' '.join([adresse, str(k)])\n",
    "     search = ' '.join([nomEtablissement, adresse])\n",
    "     Search.append(search)\n",
    "\n",
    "print(Search)"
   ]
  },
  {
   "cell_type": "code",
   "execution_count": 2,
   "metadata": {},
   "outputs": [],
   "source": [
    "def Driver():    \n",
    "    driver = webdriver.Chrome('chromedriver')\n",
    "\n",
    "    #This line creates a ChromeOptions object, which allows you to customize the behavior of the ChromeDriver.\n",
    "    options=webdriver.ChromeOptions()\n",
    "\n",
    "    #window size optimised for easier element selection\n",
    "    options.add_argument(\"--window-size=600x1080\") \n",
    "\n",
    "    #This is useful for running automated tests or performing web scraping tasks without displaying the browser window.\n",
    "    options.add_argument('-headless')\n",
    "\n",
    "    #disable chrome contenairiation in order to modify options\n",
    "    options.add_argument('-no-sandbox')\n",
    "\n",
    "    #disable shared memory space in Chrome cause might be troublesome in headless mode\n",
    "    options.add_argument('-disable-dev-shm-usage')\n",
    "\n",
    "    #ignores SSL certificate errors\n",
    "    options.add_argument('--ignore-certificate-errors')\n",
    "\n",
    "    #pass in incognito mode\n",
    "    options.add_argument(\"incognito\")\n",
    "\n",
    "    #set chrome in french\n",
    "    options.add_argument('--lang=fr')\n",
    "    \n",
    "    #pass arguments\n",
    "    driver = webdriver.Chrome('chromedriver',options=options)\n",
    "\n",
    "    return driver"
   ]
  },
  {
   "cell_type": "code",
   "execution_count": 3,
   "metadata": {},
   "outputs": [],
   "source": [
    "def go2maps(driver):\n",
    "    #Print the new window size\n",
    "    print(driver.get_window_rect())\n",
    "    #drive to website\n",
    "    driver.get(websiteUrl)\n",
    "    #sleep\n",
    "    time.sleep(5)\n",
    "    #refuse cookies\n",
    "    RejectAll = driver.find_element(By.TAG_NAME, \"button\")\n",
    "    WebDriverWait(driver, 5).until(\n",
    "        EC.element_to_be_clickable((By.TAG_NAME, \"button\"))\n",
    "    )\n",
    "    RejectAll.click()\n",
    "                             "
   ]
  },
  {
   "cell_type": "code",
   "execution_count": 4,
   "metadata": {},
   "outputs": [],
   "source": [
    "def mapsSearch(driver, search):\n",
    "    searchboxSelector = '#searchboxinput'\n",
    "    #wait for maps searchbox to be clickable\n",
    "    WebDriverWait(driver, 5).until(\n",
    "                        EC.element_to_be_clickable((By.CSS_SELECTOR, searchboxSelector))\n",
    "     )\n",
    "    searchbox = driver.find_element(By.CSS_SELECTOR,searchboxSelector)\n",
    "    searchbox.clear()\n",
    "    #input search pattern to maps searchbox\n",
    "    searchbox.send_keys(search)\n",
    "    searchbox.send_keys(Keys.ENTER)\n",
    "    "
   ]
  },
  {
   "cell_type": "code",
   "execution_count": 5,
   "metadata": {},
   "outputs": [],
   "source": [
    "def bytes_to_gb(bytes_value):\n",
    "    gb_value = bytes_value / (1024**3)\n",
    "    return gb_value\n",
    "\n",
    "def bytes_to_mb(bytes_value):\n",
    "    gb_value = bytes_value / (1024**2)\n",
    "    return gb_value\n",
    "\n",
    "def get_current_memory_usage():\n",
    "    # Get the current process ID\n",
    "    current_process = psutil.Process()\n",
    "\n",
    "    # Get memory usage information\n",
    "    memory_info = current_process.memory_info()\n",
    "\n",
    "    # Convert the memory usage from bytes to megabytes\n",
    "    memory_usage_mb = bytes_to_mb(memory_info.rss)\n",
    "\n",
    "    # Convert the memory usage from bytes to gigabytes\n",
    "    memory_usage_gb = bytes_to_gb(memory_info.rss)\n",
    "\n",
    "    return memory_usage_mb, memory_usage_gb\n",
    "\n"
   ]
  },
  {
   "cell_type": "code",
   "execution_count": 31,
   "metadata": {},
   "outputs": [],
   "source": [
    "adressesEcoles = pd.read_csv('path2project/Annuaire/adressesEcoles')"
   ]
  },
  {
   "cell_type": "code",
   "execution_count": 32,
   "metadata": {},
   "outputs": [
    {
     "data": {
      "text/html": [
       "<div>\n",
       "<style scoped>\n",
       "    .dataframe tbody tr th:only-of-type {\n",
       "        vertical-align: middle;\n",
       "    }\n",
       "\n",
       "    .dataframe tbody tr th {\n",
       "        vertical-align: top;\n",
       "    }\n",
       "\n",
       "    .dataframe thead th {\n",
       "        text-align: right;\n",
       "    }\n",
       "</style>\n",
       "<table border=\"1\" class=\"dataframe\">\n",
       "  <thead>\n",
       "    <tr style=\"text-align: right;\">\n",
       "      <th></th>\n",
       "      <th>AdresseEtablissementPrive</th>\n",
       "      <th>NomEtablissementPrive</th>\n",
       "    </tr>\n",
       "  </thead>\n",
       "  <tbody>\n",
       "    <tr>\n",
       "      <th>0</th>\n",
       "      <td>1 AVENUE RATISBONNE 91000 EVRY-COURCOURONNES</td>\n",
       "      <td>['Lycee polyvalent Notre-Dame de Sion', 'Colle...</td>\n",
       "    </tr>\n",
       "    <tr>\n",
       "      <th>1</th>\n",
       "      <td>1 AVENUE DE VERDUN 95300 PONTOISE</td>\n",
       "      <td>['College Saint-Martin de France', 'College Pr...</td>\n",
       "    </tr>\n",
       "    <tr>\n",
       "      <th>2</th>\n",
       "      <td>1 AVENUE DE LA BRETECHE 78150 LE CHESNAY-ROCQU...</td>\n",
       "      <td>['College Blanche de Castille', 'Lycee Blanche...</td>\n",
       "    </tr>\n",
       "    <tr>\n",
       "      <th>3</th>\n",
       "      <td>1 BOULEVARD DU NORD 93340 LE RAINCY</td>\n",
       "      <td>['College Tebrotzassere', 'College Tebrotzasse...</td>\n",
       "    </tr>\n",
       "    <tr>\n",
       "      <th>4</th>\n",
       "      <td>1 DOMAINE DU VIGNOIS 77440 ARMENTIERES-EN-BRIE</td>\n",
       "      <td>['Lycee general prive Beth Myriam', 'College p...</td>\n",
       "    </tr>\n",
       "    <tr>\n",
       "      <th>...</th>\n",
       "      <td>...</td>\n",
       "      <td>...</td>\n",
       "    </tr>\n",
       "    <tr>\n",
       "      <th>1904</th>\n",
       "      <td>RUE DU 8 MAI 1945 91120 PALAISEAU</td>\n",
       "      <td>['Lycee Polyvalent Prive Saint Martin']</td>\n",
       "    </tr>\n",
       "    <tr>\n",
       "      <th>1905</th>\n",
       "      <td>SITE DU BEL-AIR 51 BOULEVARD DE LA PAIX 78100 ...</td>\n",
       "      <td>['Ecole Sup de V - CCI Paris Ile-de-France']</td>\n",
       "    </tr>\n",
       "    <tr>\n",
       "      <th>1906</th>\n",
       "      <td>VOG ACADEMY, HOTEL MARIOTT 17 BOULEVARD SAINT-...</td>\n",
       "      <td>[\"Ecole de Coiffure Formul'Academie\"]</td>\n",
       "    </tr>\n",
       "    <tr>\n",
       "      <th>1907</th>\n",
       "      <td>ZA 15 RUE DE LA MARE BLANCHE 77186 NOISIEL</td>\n",
       "      <td>['Institut Superieur du Transport et de la Log...</td>\n",
       "    </tr>\n",
       "    <tr>\n",
       "      <th>1908</th>\n",
       "      <td>ZI DES RICHARDETS 11 RUE DU BALLON 93165 NOISY...</td>\n",
       "      <td>[\"GOBELINS Ecole de l'Image Site de Noisy\"]</td>\n",
       "    </tr>\n",
       "  </tbody>\n",
       "</table>\n",
       "<p>1909 rows × 2 columns</p>\n",
       "</div>"
      ],
      "text/plain": [
       "                              AdresseEtablissementPrive  \\\n",
       "0          1 AVENUE RATISBONNE 91000 EVRY-COURCOURONNES   \n",
       "1                     1 AVENUE DE VERDUN 95300 PONTOISE   \n",
       "2     1 AVENUE DE LA BRETECHE 78150 LE CHESNAY-ROCQU...   \n",
       "3                   1 BOULEVARD DU NORD 93340 LE RAINCY   \n",
       "4        1 DOMAINE DU VIGNOIS 77440 ARMENTIERES-EN-BRIE   \n",
       "...                                                 ...   \n",
       "1904                  RUE DU 8 MAI 1945 91120 PALAISEAU   \n",
       "1905  SITE DU BEL-AIR 51 BOULEVARD DE LA PAIX 78100 ...   \n",
       "1906  VOG ACADEMY, HOTEL MARIOTT 17 BOULEVARD SAINT-...   \n",
       "1907         ZA 15 RUE DE LA MARE BLANCHE 77186 NOISIEL   \n",
       "1908  ZI DES RICHARDETS 11 RUE DU BALLON 93165 NOISY...   \n",
       "\n",
       "                                  NomEtablissementPrive  \n",
       "0     ['Lycee polyvalent Notre-Dame de Sion', 'Colle...  \n",
       "1     ['College Saint-Martin de France', 'College Pr...  \n",
       "2     ['College Blanche de Castille', 'Lycee Blanche...  \n",
       "3     ['College Tebrotzassere', 'College Tebrotzasse...  \n",
       "4     ['Lycee general prive Beth Myriam', 'College p...  \n",
       "...                                                 ...  \n",
       "1904            ['Lycee Polyvalent Prive Saint Martin']  \n",
       "1905       ['Ecole Sup de V - CCI Paris Ile-de-France']  \n",
       "1906              [\"Ecole de Coiffure Formul'Academie\"]  \n",
       "1907  ['Institut Superieur du Transport et de la Log...  \n",
       "1908        [\"GOBELINS Ecole de l'Image Site de Noisy\"]  \n",
       "\n",
       "[1909 rows x 2 columns]"
      ]
     },
     "execution_count": 32,
     "metadata": {},
     "output_type": "execute_result"
    }
   ],
   "source": [
    "adressesEcoles "
   ]
  },
  {
   "cell_type": "code",
   "execution_count": 33,
   "metadata": {},
   "outputs": [],
   "source": [
    "Na = ['NA'] * len(adressesEcoles)"
   ]
  },
  {
   "cell_type": "code",
   "execution_count": 34,
   "metadata": {},
   "outputs": [],
   "source": [
    "mapsSchools = pd.DataFrame({\n",
    "    'mapsName': Na,\n",
    "    'mapsAddresses': Na,    \n",
    "    'mapsPhone':  Na,\n",
    "    'mapsWebsite': Na\n",
    "})"
   ]
  },
  {
   "cell_type": "code",
   "execution_count": 35,
   "metadata": {},
   "outputs": [],
   "source": [
    "adressesEcoles = pd.concat([adressesEcoles, mapsSchools], axis = 1 )"
   ]
  },
  {
   "cell_type": "markdown",
   "metadata": {},
   "source": [
    "Must set multiple Index in merging intead of grouping!!!!!!!!!!!!!!!!!"
   ]
  },
  {
   "cell_type": "code",
   "execution_count": 38,
   "metadata": {},
   "outputs": [
    {
     "data": {
      "text/html": [
       "<div>\n",
       "<style scoped>\n",
       "    .dataframe tbody tr th:only-of-type {\n",
       "        vertical-align: middle;\n",
       "    }\n",
       "\n",
       "    .dataframe tbody tr th {\n",
       "        vertical-align: top;\n",
       "    }\n",
       "\n",
       "    .dataframe thead th {\n",
       "        text-align: right;\n",
       "    }\n",
       "</style>\n",
       "<table border=\"1\" class=\"dataframe\">\n",
       "  <thead>\n",
       "    <tr style=\"text-align: right;\">\n",
       "      <th></th>\n",
       "      <th></th>\n",
       "      <th>mapsName</th>\n",
       "      <th>mapsAddresses</th>\n",
       "      <th>mapsPhone</th>\n",
       "      <th>mapsWebsite</th>\n",
       "    </tr>\n",
       "    <tr>\n",
       "      <th>AdresseEtablissementPrive</th>\n",
       "      <th>NomEtablissementPrive</th>\n",
       "      <th></th>\n",
       "      <th></th>\n",
       "      <th></th>\n",
       "      <th></th>\n",
       "    </tr>\n",
       "  </thead>\n",
       "  <tbody>\n",
       "    <tr>\n",
       "      <th>1 AVENUE RATISBONNE 91000 EVRY-COURCOURONNES</th>\n",
       "      <th>['Lycee polyvalent Notre-Dame de Sion', 'College Prive Notre Dame de Sion']</th>\n",
       "      <td>NA</td>\n",
       "      <td>NA</td>\n",
       "      <td>NA</td>\n",
       "      <td>NA</td>\n",
       "    </tr>\n",
       "    <tr>\n",
       "      <th>1 AVENUE DE VERDUN 95300 PONTOISE</th>\n",
       "      <th>['College Saint-Martin de France', 'College Prive Saint-Martin-de-France', 'Lycee Prive Saint-Martin-de-France']</th>\n",
       "      <td>NA</td>\n",
       "      <td>NA</td>\n",
       "      <td>NA</td>\n",
       "      <td>NA</td>\n",
       "    </tr>\n",
       "    <tr>\n",
       "      <th>1 AVENUE DE LA BRETECHE 78150 LE CHESNAY-ROCQUENCOURT</th>\n",
       "      <th>['College Blanche de Castille', 'Lycee Blanche de Castille', 'Lycee Prive Blanche-de-Castille', 'College Prive Blanche-de-Castille', \"Lycee d'Enseignement General Prive Blanche-de-Castille\"]</th>\n",
       "      <td>NA</td>\n",
       "      <td>NA</td>\n",
       "      <td>NA</td>\n",
       "      <td>NA</td>\n",
       "    </tr>\n",
       "    <tr>\n",
       "      <th>1 BOULEVARD DU NORD 93340 LE RAINCY</th>\n",
       "      <th>['College Tebrotzassere', 'College Tebrotzassere']</th>\n",
       "      <td>NA</td>\n",
       "      <td>NA</td>\n",
       "      <td>NA</td>\n",
       "      <td>NA</td>\n",
       "    </tr>\n",
       "    <tr>\n",
       "      <th>1 DOMAINE DU VIGNOIS 77440 ARMENTIERES-EN-BRIE</th>\n",
       "      <th>['Lycee general prive Beth Myriam', 'College prive Beth Myriam', 'Ecole Primaire Privee David Tsemah']</th>\n",
       "      <td>NA</td>\n",
       "      <td>NA</td>\n",
       "      <td>NA</td>\n",
       "      <td>NA</td>\n",
       "    </tr>\n",
       "    <tr>\n",
       "      <th>...</th>\n",
       "      <th>...</th>\n",
       "      <td>...</td>\n",
       "      <td>...</td>\n",
       "      <td>...</td>\n",
       "      <td>...</td>\n",
       "    </tr>\n",
       "    <tr>\n",
       "      <th>RUE DU 8 MAI 1945 91120 PALAISEAU</th>\n",
       "      <th>['Lycee Polyvalent Prive Saint Martin']</th>\n",
       "      <td>NA</td>\n",
       "      <td>NA</td>\n",
       "      <td>NA</td>\n",
       "      <td>NA</td>\n",
       "    </tr>\n",
       "    <tr>\n",
       "      <th>SITE DU BEL-AIR 51 BOULEVARD DE LA PAIX 78100 SAINT-GERMAIN-EN-LAYE</th>\n",
       "      <th>['Ecole Sup de V - CCI Paris Ile-de-France']</th>\n",
       "      <td>NA</td>\n",
       "      <td>NA</td>\n",
       "      <td>NA</td>\n",
       "      <td>NA</td>\n",
       "    </tr>\n",
       "    <tr>\n",
       "      <th>VOG ACADEMY, HOTEL MARIOTT 17 BOULEVARD SAINT-JACQUES 75014 PARIS 14</th>\n",
       "      <th>[\"Ecole de Coiffure Formul'Academie\"]</th>\n",
       "      <td>NA</td>\n",
       "      <td>NA</td>\n",
       "      <td>NA</td>\n",
       "      <td>NA</td>\n",
       "    </tr>\n",
       "    <tr>\n",
       "      <th>ZA 15 RUE DE LA MARE BLANCHE 77186 NOISIEL</th>\n",
       "      <th>['Institut Superieur du Transport et de la Logistique Internationale']</th>\n",
       "      <td>NA</td>\n",
       "      <td>NA</td>\n",
       "      <td>NA</td>\n",
       "      <td>NA</td>\n",
       "    </tr>\n",
       "    <tr>\n",
       "      <th>ZI DES RICHARDETS 11 RUE DU BALLON 93165 NOISY-LE-GRAND</th>\n",
       "      <th>[\"GOBELINS Ecole de l'Image Site de Noisy\"]</th>\n",
       "      <td>NA</td>\n",
       "      <td>NA</td>\n",
       "      <td>NA</td>\n",
       "      <td>NA</td>\n",
       "    </tr>\n",
       "  </tbody>\n",
       "</table>\n",
       "<p>1909 rows × 4 columns</p>\n",
       "</div>"
      ],
      "text/plain": [
       "                                                                                                      mapsName  \\\n",
       "AdresseEtablissementPrive                          NomEtablissementPrive                                         \n",
       "1 AVENUE RATISBONNE 91000 EVRY-COURCOURONNES       ['Lycee polyvalent Notre-Dame de Sion', 'Colleg...       NA   \n",
       "1 AVENUE DE VERDUN 95300 PONTOISE                  ['College Saint-Martin de France', 'College Pri...       NA   \n",
       "1 AVENUE DE LA BRETECHE 78150 LE CHESNAY-ROCQUE... ['College Blanche de Castille', 'Lycee Blanche ...       NA   \n",
       "1 BOULEVARD DU NORD 93340 LE RAINCY                ['College Tebrotzassere', 'College Tebrotzassere']       NA   \n",
       "1 DOMAINE DU VIGNOIS 77440 ARMENTIERES-EN-BRIE     ['Lycee general prive Beth Myriam', 'College pr...       NA   \n",
       "...                                                                                                        ...   \n",
       "RUE DU 8 MAI 1945 91120 PALAISEAU                  ['Lycee Polyvalent Prive Saint Martin']                  NA   \n",
       "SITE DU BEL-AIR 51 BOULEVARD DE LA PAIX 78100 S... ['Ecole Sup de V - CCI Paris Ile-de-France']             NA   \n",
       "VOG ACADEMY, HOTEL MARIOTT 17 BOULEVARD SAINT-J... [\"Ecole de Coiffure Formul'Academie\"]                    NA   \n",
       "ZA 15 RUE DE LA MARE BLANCHE 77186 NOISIEL         ['Institut Superieur du Transport et de la Logi...       NA   \n",
       "ZI DES RICHARDETS 11 RUE DU BALLON 93165 NOISY-... [\"GOBELINS Ecole de l'Image Site de Noisy\"]              NA   \n",
       "\n",
       "                                                                                                      mapsAddresses  \\\n",
       "AdresseEtablissementPrive                          NomEtablissementPrive                                              \n",
       "1 AVENUE RATISBONNE 91000 EVRY-COURCOURONNES       ['Lycee polyvalent Notre-Dame de Sion', 'Colleg...            NA   \n",
       "1 AVENUE DE VERDUN 95300 PONTOISE                  ['College Saint-Martin de France', 'College Pri...            NA   \n",
       "1 AVENUE DE LA BRETECHE 78150 LE CHESNAY-ROCQUE... ['College Blanche de Castille', 'Lycee Blanche ...            NA   \n",
       "1 BOULEVARD DU NORD 93340 LE RAINCY                ['College Tebrotzassere', 'College Tebrotzassere']            NA   \n",
       "1 DOMAINE DU VIGNOIS 77440 ARMENTIERES-EN-BRIE     ['Lycee general prive Beth Myriam', 'College pr...            NA   \n",
       "...                                                                                                             ...   \n",
       "RUE DU 8 MAI 1945 91120 PALAISEAU                  ['Lycee Polyvalent Prive Saint Martin']                       NA   \n",
       "SITE DU BEL-AIR 51 BOULEVARD DE LA PAIX 78100 S... ['Ecole Sup de V - CCI Paris Ile-de-France']                  NA   \n",
       "VOG ACADEMY, HOTEL MARIOTT 17 BOULEVARD SAINT-J... [\"Ecole de Coiffure Formul'Academie\"]                         NA   \n",
       "ZA 15 RUE DE LA MARE BLANCHE 77186 NOISIEL         ['Institut Superieur du Transport et de la Logi...            NA   \n",
       "ZI DES RICHARDETS 11 RUE DU BALLON 93165 NOISY-... [\"GOBELINS Ecole de l'Image Site de Noisy\"]                   NA   \n",
       "\n",
       "                                                                                                      mapsPhone  \\\n",
       "AdresseEtablissementPrive                          NomEtablissementPrive                                          \n",
       "1 AVENUE RATISBONNE 91000 EVRY-COURCOURONNES       ['Lycee polyvalent Notre-Dame de Sion', 'Colleg...        NA   \n",
       "1 AVENUE DE VERDUN 95300 PONTOISE                  ['College Saint-Martin de France', 'College Pri...        NA   \n",
       "1 AVENUE DE LA BRETECHE 78150 LE CHESNAY-ROCQUE... ['College Blanche de Castille', 'Lycee Blanche ...        NA   \n",
       "1 BOULEVARD DU NORD 93340 LE RAINCY                ['College Tebrotzassere', 'College Tebrotzassere']        NA   \n",
       "1 DOMAINE DU VIGNOIS 77440 ARMENTIERES-EN-BRIE     ['Lycee general prive Beth Myriam', 'College pr...        NA   \n",
       "...                                                                                                         ...   \n",
       "RUE DU 8 MAI 1945 91120 PALAISEAU                  ['Lycee Polyvalent Prive Saint Martin']                   NA   \n",
       "SITE DU BEL-AIR 51 BOULEVARD DE LA PAIX 78100 S... ['Ecole Sup de V - CCI Paris Ile-de-France']              NA   \n",
       "VOG ACADEMY, HOTEL MARIOTT 17 BOULEVARD SAINT-J... [\"Ecole de Coiffure Formul'Academie\"]                     NA   \n",
       "ZA 15 RUE DE LA MARE BLANCHE 77186 NOISIEL         ['Institut Superieur du Transport et de la Logi...        NA   \n",
       "ZI DES RICHARDETS 11 RUE DU BALLON 93165 NOISY-... [\"GOBELINS Ecole de l'Image Site de Noisy\"]               NA   \n",
       "\n",
       "                                                                                                      mapsWebsite  \n",
       "AdresseEtablissementPrive                          NomEtablissementPrive                                           \n",
       "1 AVENUE RATISBONNE 91000 EVRY-COURCOURONNES       ['Lycee polyvalent Notre-Dame de Sion', 'Colleg...          NA  \n",
       "1 AVENUE DE VERDUN 95300 PONTOISE                  ['College Saint-Martin de France', 'College Pri...          NA  \n",
       "1 AVENUE DE LA BRETECHE 78150 LE CHESNAY-ROCQUE... ['College Blanche de Castille', 'Lycee Blanche ...          NA  \n",
       "1 BOULEVARD DU NORD 93340 LE RAINCY                ['College Tebrotzassere', 'College Tebrotzassere']          NA  \n",
       "1 DOMAINE DU VIGNOIS 77440 ARMENTIERES-EN-BRIE     ['Lycee general prive Beth Myriam', 'College pr...          NA  \n",
       "...                                                                                                           ...  \n",
       "RUE DU 8 MAI 1945 91120 PALAISEAU                  ['Lycee Polyvalent Prive Saint Martin']                     NA  \n",
       "SITE DU BEL-AIR 51 BOULEVARD DE LA PAIX 78100 S... ['Ecole Sup de V - CCI Paris Ile-de-France']                NA  \n",
       "VOG ACADEMY, HOTEL MARIOTT 17 BOULEVARD SAINT-J... [\"Ecole de Coiffure Formul'Academie\"]                       NA  \n",
       "ZA 15 RUE DE LA MARE BLANCHE 77186 NOISIEL         ['Institut Superieur du Transport et de la Logi...          NA  \n",
       "ZI DES RICHARDETS 11 RUE DU BALLON 93165 NOISY-... [\"GOBELINS Ecole de l'Image Site de Noisy\"]                 NA  \n",
       "\n",
       "[1909 rows x 4 columns]"
      ]
     },
     "execution_count": 38,
     "metadata": {},
     "output_type": "execute_result"
    }
   ],
   "source": [
    "adressesEcoles.set_index(['AdresseEtablissementPrive', 'NomEtablissementPrive'])"
   ]
  },
  {
   "cell_type": "code",
   "execution_count": 52,
   "metadata": {},
   "outputs": [],
   "source": [
    "def retrieve_mapsElements(driver, data):\n",
    "    nameSelector = '#QA0Szd > div > div > div.w6VYqd > div:nth-child(2) > div > div.e07Vkf.kA9KIf > div > div > div.TIHn2 > div > div.lMbq3e > div:nth-child(1)'\n",
    "    elementsAttributes = '[data-tooltip][data-item-id]'\n",
    "    #Wait for name element to be located\n",
    "    WebDriverWait(driver, 5).until(\n",
    "                    EC.presence_of_element_located((By.CSS_SELECTOR, nameSelector))\n",
    "    )     \n",
    "    #Wait for all elements to be located                             \n",
    "    WebDriverWait(driver, 5).until(\n",
    "                    EC.presence_of_all_elements_located((By.CSS_SELECTOR,elementsAttributes))\n",
    "    )  \n",
    "    elements = driver.find_elements(By.CSS_SELECTOR, value=elementsAttributes) \n",
    "    name     = driver.find_element(By.CSS_SELECTOR, nameSelector).text\n",
    "    data['mapsName'] = name\n",
    "    for element in elements:\n",
    "        attribute_pattern = element.get_attribute('data-tooltip')\n",
    "        if attribute_pattern == 'Copier l\\'adresse':\n",
    "            data['mapsAddress'] = element.text\n",
    "        elif attribute_pattern == 'Accéder au site Web':\n",
    "            data['mapsSite'] = element.text\n",
    "        elif attribute_pattern == 'Copier le numéro de téléphone':\n",
    "            data['mapsPhone'] = element.text\n",
    "    return data"
   ]
  },
  {
   "cell_type": "code",
   "execution_count": 53,
   "metadata": {},
   "outputs": [],
   "source": [
    "d1 = pd.read_csv('path2project/Annuaire/Maps/df4419.csv', encoding = 'utf-16', sep = '\\t') \n",
    "d2 = pd.read_csv('path2project/Annuaire/Maps/d2.csv', encoding = 'utf-16', sep = '\\t')\n",
    "d3 = pd.read_csv('path2project/Annuaire/Maps/Maps6381.csv', encoding = 'utf-16')    \n",
    "d4 = pd.read_csv('path2project/Annuaire/Maps/d4.csv', encoding = 'utf-16', sep = '\\t')\n",
    "d5 = pd.read_csv('path2project/Annuaire/Maps/Maps6427.csv', encoding = 'ANSI')"
   ]
  },
  {
   "cell_type": "code",
   "execution_count": 54,
   "metadata": {},
   "outputs": [],
   "source": [
    "m = pd.concat([d1, d2, d3, d4, d5], axis = 0)\n",
    "\n",
    "m.replace(['NA', 'NaN'], np.nan)\n",
    "\n",
    "na = m[m['mapsName'].isna() == True]\n",
    "\n",
    "#  Mark duplicates as True except for the first occurrence.\n",
    "replicants = m[m.duplicated(keep ='first')]\n",
    "\n",
    "replicants = replicants.dropna(subset = ['mapsName'])"
   ]
  },
  {
   "cell_type": "code",
   "execution_count": 83,
   "metadata": {},
   "outputs": [
    {
     "data": {
      "text/plain": [
       "6428"
      ]
     },
     "execution_count": 83,
     "metadata": {},
     "output_type": "execute_result"
    }
   ],
   "source": [
    "len(Search)"
   ]
  },
  {
   "cell_type": "code",
   "execution_count": 82,
   "metadata": {},
   "outputs": [
    {
     "data": {
      "text/plain": [
       "6431"
      ]
     },
     "execution_count": 82,
     "metadata": {},
     "output_type": "execute_result"
    }
   ],
   "source": [
    "len(m)"
   ]
  },
  {
   "cell_type": "code",
   "execution_count": 87,
   "metadata": {},
   "outputs": [
    {
     "data": {
      "text/plain": [
       "6431"
      ]
     },
     "execution_count": 87,
     "metadata": {},
     "output_type": "execute_result"
    }
   ],
   "source": [
    "#len(m) = 6431 != len(Search) = 6428 =>  3 corrupted indexes"
   ]
  },
  {
   "cell_type": "code",
   "execution_count": 191,
   "metadata": {},
   "outputs": [],
   "source": [
    "m = m.drop('Unnamed: 0', axis = 1)"
   ]
  },
  {
   "cell_type": "code",
   "execution_count": null,
   "metadata": {},
   "outputs": [],
   "source": [
    "adressesEcoles = pd.read_csv('path2project/Annuaire/adressesEcoles')"
   ]
  },
  {
   "cell_type": "code",
   "execution_count": null,
   "metadata": {},
   "outputs": [],
   "source": [
    "#init WebDriver\n",
    "driver = Driver()\n",
    "go2maps(driver)\n",
    "#Init variables\n",
    "index = list(na.index) + list(replicants.index)\n",
    "data = {}\n",
    "MasquerItineraireSelector = '#omnibox-directions > div > div:nth-child(2) > div > button'\n",
    "ThumbnailsClass = \"hfpxzc\"\n",
    "#search pattern for each element in Search list\n",
    "for i, j in enumerate(index):\n",
    "    if i!=0 and i%50 == 0:\n",
    "        driver.quit()\n",
    "        driver = Driver()\n",
    "        go2maps(driver)\n",
    "    if int(i) in range(len(index)):\n",
    "        data['mapsName']    = 'NA' \n",
    "        data['mapsAddress'] = 'NA' \n",
    "        data['mapsSite']    = 'NA' \n",
    "        data['mapsPhone']   = 'NA' \n",
    "        data['firstMatch']  = 'NA'\n",
    "        time.sleep(10)\n",
    "        #case number 1: \n",
    "            #page had the time to load and we've got a first match\n",
    "        search = Search[j]\n",
    "        try:\n",
    "            mapsSearch(driver, search)\n",
    "            time.sleep(5)  \n",
    "            data = retrieve_mapsElements(driver, data)\n",
    "            data['firstMatch']  = 'True'\n",
    "        except (TimeoutException, StaleElementReferenceException, NoSuchElementException, WebDriverException):\n",
    "            #case number 2: \n",
    "                #page had the time to load but we've got to choose between multiple thumbnailes (second match)\n",
    "            try:   \n",
    "                #drive to firstThumbnail if exists\n",
    "                    time.sleep(5)\n",
    "                    WebDriverWait(driver, 5).until(\n",
    "                        EC.presence_of_all_elements_located((By.CLASS_NAME, ThumbnailsClass))\n",
    "                    )\n",
    "                    WebDriverWait(driver, 5).until(\n",
    "                        EC.element_to_be_clickable((By.CLASS_NAME, ThumbnailsClass))\n",
    "                    )\n",
    "                    firstThumbnail = driver.find_element(By.CLASS_NAME, ThumbnailsClass)\n",
    "                    firstThumbnail.click()\n",
    "                    time.sleep(20)\n",
    "                    print(driver.current_url)\n",
    "                    data = retrieve_mapsElements(driver, data)\n",
    "                    data['firstMatch'] = 'False'\n",
    "            except (TimeoutException, StaleElementReferenceException, NoSuchElementException, WebDriverException):\n",
    "                #case number 3:\n",
    "                    #page didn't has the time to load => maps gets the wrong element (Itineraire)\n",
    "                try:\n",
    "                    #therefore a cross allowing to close search of \"itineraire\" appears\n",
    "                    time.sleep(5)  \n",
    "                    WebDriverWait(driver,5).until(\n",
    "                    EC.element_to_be_clickable((By.CSS_SELECTOR, MasquerItineraireSelector))\n",
    "                    )\n",
    "                    MasquerItineraire = driver.find_element(By.CSS_SELECTOR, MasquerItineraireSelector)\n",
    "                    MasquerItineraire.click()\n",
    "                    #retry search\n",
    "                    time.sleep(5)  \n",
    "                    mapsSearch(driver, search)\n",
    "                    time.sleep(5)  \n",
    "                    data = retrieve_mapsElements(driver, data)\n",
    "                    data['firstMatch']  = 'True'\n",
    "                #case number 4: \n",
    "                    #no match\n",
    "                except (TimeoutException, StaleElementReferenceException, NoSuchElementException):\n",
    "                    data['mapsName']    = 'NA' \n",
    "                    data['mapsAddress'] = 'NA' \n",
    "                    data['mapsSite']    = 'NA' \n",
    "                    data['mapsPhone']   = 'NA' \n",
    "                    data['firstMatch']  = 'NA' \n",
    "                except  WebDriverException:\n",
    "                    #reinit WebDriver\n",
    "                    driver.quit()\n",
    "                    driver = Driver()\n",
    "                    go2maps(driver)\n",
    "                    i-=1\n",
    "        print(i, search, m.iloc[j])\n",
    "        #data dictionary convertion           \n",
    "        data = pd.Series(data)\n",
    "        print(data)\n",
    "        #data actualisation \n",
    "        m.iloc[j] = data\n",
    "        print(m.iloc[j])"
   ]
  },
  {
   "cell_type": "code",
   "execution_count": 167,
   "metadata": {},
   "outputs": [],
   "source": [
    "m.drop('Unnamed: 0', axis = 1, inplace = True)"
   ]
  },
  {
   "cell_type": "code",
   "execution_count": 169,
   "metadata": {},
   "outputs": [],
   "source": [
    "m.to_csv('path2project/Annuaire/Maps/finalMaps.csv', encoding = 'utf-16', sep = '\\t', index = False)"
   ]
  },
  {
   "cell_type": "code",
   "execution_count": 171,
   "metadata": {},
   "outputs": [],
   "source": [
    "m = pd.read_csv('path2project/Annuaire/Maps/finalMaps.csv', encoding = 'utf-16', sep = '\\t')"
   ]
  },
  {
   "cell_type": "code",
   "execution_count": 172,
   "metadata": {},
   "outputs": [
    {
     "data": {
      "text/plain": [
       "6428"
      ]
     },
     "execution_count": 172,
     "metadata": {},
     "output_type": "execute_result"
    }
   ],
   "source": [
    "len(m)"
   ]
  },
  {
   "cell_type": "code",
   "execution_count": 197,
   "metadata": {},
   "outputs": [],
   "source": [
    "di.reset_index(inplace = True)"
   ]
  },
  {
   "cell_type": "code",
   "execution_count": 204,
   "metadata": {},
   "outputs": [],
   "source": [
    "df = pd.concat([di, m], axis = 1)"
   ]
  },
  {
   "cell_type": "code",
   "execution_count": 206,
   "metadata": {},
   "outputs": [],
   "source": [
    "df.to_csv('path2project/Annuaire/Maps/AnnuaireFinal+Maps.csv', encoding = 'utf-16', sep = '\\t', index = False)"
   ]
  }
 ],
 "metadata": {
  "kernelspec": {
   "display_name": "Python 3",
   "language": "python",
   "name": "python3"
  },
  "language_info": {
   "codemirror_mode": {
    "name": "ipython",
    "version": 3
   },
   "file_extension": ".py",
   "mimetype": "text/x-python",
   "name": "python",
   "nbconvert_exporter": "python",
   "pygments_lexer": "ipython3",
   "version": "3.11.2"
  },
  "orig_nbformat": 4
 },
 "nbformat": 4,
 "nbformat_minor": 2
}
